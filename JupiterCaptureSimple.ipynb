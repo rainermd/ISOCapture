{
 "cells": [
  {
   "cell_type": "code",
   "execution_count": 1,
   "id": "bb033abb-c917-47d4-8ecc-12f30b0c9452",
   "metadata": {
    "editable": true,
    "slideshow": {
     "slide_type": ""
    },
    "tags": []
   },
   "outputs": [
    {
     "data": {
      "text/html": [
       "\n",
       "        <iframe\n",
       "            width=\"800\"\n",
       "            height=\"800\"\n",
       "            src=\"http://localhost:1234\"\n",
       "            frameborder=\"0\"\n",
       "            allowfullscreen\n",
       "            \n",
       "        ></iframe>\n",
       "        "
      ],
      "text/plain": [
       "<IPython.lib.display.IFrame at 0x1198b78c0>"
      ]
     },
     "metadata": {},
     "output_type": "display_data"
    },
    {
     "name": "stdout",
     "output_type": "stream",
     "text": [
      "Searching NASA Horizons for 'Sun'... \n",
      "Found: Sun (10) \n",
      "Searching NASA Horizons for 'Jupiter'... \n",
      "Found: Jupiter Barycenter (5) (chosen from query 'Jupiter')\n",
      "Bound fraction: 0.0001, Capture Rate (per year) Estimate: 0.0007407407407407408\n"
     ]
    }
   ],
   "source": [
    "import matplotlib\n",
    "import rebound\n",
    "import numpy as np\n",
    "import time\n",
    "\n",
    "# Initialize the simulation\n",
    "sim = rebound.Simulation()\n",
    "sim.integrator = \"whfast\" #IMPORTANT: Chose WHFast for quicker simulation, but IAS15 may be more accurate\n",
    "sim.dt=1e-3 #Must be small enough for accuracy, but large enough so simulation isn't slow\n",
    "sim.widget(port=1234, size=(800,800)) #Visualization\n",
    "sim.softening = 1e-6 #softening parameter prevents singularities from occuring when particles get too close, may remove\n",
    "\n",
    "date = \"2025-01-22 18:00\"\n",
    "# Add Sun\n",
    "sim.add(\"Sun\", date=date)\n",
    "\n",
    "# Add Jupiter\n",
    "sim.add(\"Jupiter\",date=date)\n",
    "\n",
    "sim.move_to_com()\n",
    "\n",
    "No=10000\n",
    "\n",
    "# Precompute Jupiter's position\n",
    "jupiter = sim.particles[1]\n",
    "jupiter_x, jupiter_y, jupiter_z = jupiter.x, jupiter.y, jupiter.z\n",
    "\n",
    "# Generate test particle positions and velocities, WE ASSUME RANDOM DISTRIBUTION, up to 1 AU away from Jupiter\n",
    "r0 = np.random.random(No)+1.76e-5  # Random radial distances in [r_min,1+r_min)\n",
    "theta0 = np.random.random(No) * np.pi  # Random polar angles\n",
    "phi0 = np.random.random(No) * 2 * np.pi  # Random azimuthal angles\n",
    "\n",
    "# Convert to Cartesian coordinates (relative to Jupiter)\n",
    "x0 = r0 * np.cos(phi0) * np.sin(theta0)\n",
    "y0 = r0 * np.sin(phi0) * np.sin(theta0)\n",
    "z0 = r0 * np.cos(theta0)\n",
    "\n",
    "x1 = jupiter_x + x0\n",
    "y1 = jupiter_y + y0\n",
    "z1 = jupiter_z + z0\n",
    "\n",
    "# Define the velocity range in G=1 units, based off of astronomer estimates, MAY CHANGE\n",
    "v_min = 0.0671  # Minimum velocity\n",
    "v_max = 3.357   # Maximum velocity\n",
    "\n",
    "# Generate velocities\n",
    "q = np.random.random(No) * 2 * np.pi  # Direction parameter, MAY WANT TO TWEAK DISTRUBUTION, assume random here\n",
    "v = np.random.uniform(v_min, v_max, No)  # Velocity magnitudes, MAY WANT TO TWEAK DISTRIBUTION, we assume uniform here\n",
    "\n",
    "# Calculate velocity components\n",
    "with np.errstate(divide='ignore', invalid='ignore'):  # Handle division by zero\n",
    "    magb1 = np.sqrt(x0**2 + y0**2)\n",
    "    magb2 = np.sqrt((x0**2) * (z0**2) + (y0**2) * (z0**2) + ((x0**2) + (y0**2))**2)\n",
    "\n",
    "    # Default velocity components\n",
    "    v0x = (-v * y0 * np.cos(q)) / magb1 + (-v * x0 * z0 * np.sin(q)) / magb2\n",
    "    v0y = (v * x0 * np.cos(q)) / magb1 + (-v * y0 * z0 * np.sin(q)) / magb2\n",
    "    v0z = v * np.sin(q) * ((x0**2) + (y0**2))**2 / magb2\n",
    "\n",
    "    # Special case: z0 == 0\n",
    "    special = z0 == 0\n",
    "    magb1[special] = x0[special]\n",
    "    magb2[special] = np.sqrt((x0[special]**2) * (y0[special]**2) + (x0[special]**4))\n",
    "\n",
    "    v0x[special] = -v[special] * x0[special] * y0[special] * np.sin(q[special]) / magb2[special]\n",
    "    v0y[special] = v[special] * (x0[special]**2) * np.sin(q[special]) / magb2[special]\n",
    "    v0z[special] = -v[special] * x0[special] * np.cos(q[special]) / magb1[special]\n",
    "\n",
    "#velocity is such that it is a random vector orthogonal to the radial seperation between the comet and Jupiter, such that t=0 is closest approach\n",
    "\n",
    "T=10\n",
    "\n",
    "boundp = np.zeros(No, dtype=bool)\n",
    "boundn = np.zeros(No, dtype=bool)\n",
    "\n",
    "# Add all test particles\n",
    "for i in range(No):\n",
    "    sim.add(m=1e-21,x=x1[i], y=y1[i], z=z1[i], vx=v0x[i], vy=v0y[i], vz=v0z[i])\n",
    "    sim.integrate(T)\n",
    "    boundp[i]=sim.particles[2].e<=1\n",
    "    sim.integrate(-T)\n",
    "    boundn[i]=sim.particles[2].e<=1\n",
    "    sim.remove(2)\n",
    "    \n",
    "counter = 0\n",
    "for i in range(No):\n",
    "    if boundp[i] and not boundn[i]:\n",
    "        counter+=1\n",
    "        \n",
    "bound_fraction = counter / No\n",
    "rate_of_entry=10000 #interstellar objects entering solar system (Neptune inner) per year, may want to refine?\n",
    "probability=2/2700 #rough estimate of likelihood of encounter with Jupiter, calculated by volume of ball we conisder around\n",
    "#Jupiter divided by cylindrical volume of solar system up to Jupiter with height 2 AU, MORE RESEARCH NEEDED\n",
    "print(f\"Bound fraction: {bound_fraction}, Capture Rate (per year) Estimate: {rate_of_entry*probability*bound_fraction}\")"
   ]
  },
  {
   "cell_type": "code",
   "execution_count": null,
   "id": "c4ca9d33-4c30-4edb-9fa9-38d60c0fa75c",
   "metadata": {},
   "outputs": [],
   "source": []
  }
 ],
 "metadata": {
  "kernelspec": {
   "display_name": "Python 3 (ipykernel)",
   "language": "python",
   "name": "python3"
  },
  "language_info": {
   "codemirror_mode": {
    "name": "ipython",
    "version": 3
   },
   "file_extension": ".py",
   "mimetype": "text/x-python",
   "name": "python",
   "nbconvert_exporter": "python",
   "pygments_lexer": "ipython3",
   "version": "3.13.1"
  }
 },
 "nbformat": 4,
 "nbformat_minor": 5
}
